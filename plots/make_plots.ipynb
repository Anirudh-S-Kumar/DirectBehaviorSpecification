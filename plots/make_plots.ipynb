{
 "cells": [
  {
   "cell_type": "code",
   "execution_count": 72,
   "metadata": {},
   "outputs": [],
   "source": [
    "import os\n",
    "import pickle as pkl\n",
    "from pathlib import Path\n",
    "from typing import Literal\n",
    "from pprint import pprint\n",
    "import matplotlib.pyplot as plt\n",
    "import json\n",
    "import matplotlib.colors as mcolors\n",
    "from enum import Enum"
   ]
  },
  {
   "cell_type": "code",
   "execution_count": 9,
   "metadata": {},
   "outputs": [],
   "source": [
    "pkl_dir = Path('pkls')"
   ]
  },
  {
   "cell_type": "code",
   "execution_count": 70,
   "metadata": {},
   "outputs": [],
   "source": [
    "def plot_graph(file, properties:list[str], num_steps:int = 5_000_000):\n",
    "    def remove_nones(input_list):\n",
    "        return [x for x in input_list if x is not None]\n",
    "\n",
    "\n",
    "    # unpickle the file\n",
    "    with open(file, 'rb') as f:\n",
    "        data = pkl.load(f)\n",
    "\n",
    "\n",
    "    data_points = [data[property][:num_steps] for property in properties]\n",
    "    data_points = [remove_nones(data_point) for data_point in data_points]\n",
    "\n",
    "\n",
    "    colors = list(mcolors.TABLEAU_COLORS.values())\n",
    "\n",
    "    for i, data_point in enumerate(data_points):\n",
    "        x = [num_steps // len(data_point) * i for i in range(len(data_point))]\n",
    "\n",
    "        plt.plot(x, data_point, color=colors[i % len(colors)]) \n",
    "        plt.xlabel('Steps')\n",
    "        plt.ylabel(properties[i])\n",
    "        plt.grid(which='major', axis=\"y\")\n",
    "        plt.legend()\n",
    "        plt.show()\n"
   ]
  },
  {
   "cell_type": "code",
   "execution_count": null,
   "metadata": {},
   "outputs": [],
   "source": [
    "def plot_4_5_graph(sac_models:list[str],td3_models:list[str], properties:list[str], constraints:list[str], num_steps:int = 3_000_000):\n",
    "    \"\"\"\n",
    "    Plot the graphs of the properties of the models in the sac_models and td3_models list\n",
    "\n",
    "    First property must be the \"eval_sampled_constraint_1\" property, \n",
    "    Second property must be the \"eval_return_greedy\"\n",
    "    \"\"\"\n",
    "\n",
    "    def remove_nones(input_list):\n",
    "        return [x for x in input_list if x is not None]\n",
    "\n",
    "    colors = list(mcolors.TABLEAU_COLORS.values())\n",
    "\n",
    "    # make a 4 * 5 subplot with 4 rows and 5 columns \n",
    "    fig = plt.figure(figsize=(20, 20))\n",
    "    fig.suptitle(\"SAC vs TD3 Single Constraint\")\n",
    "\n",
    "    \n",
    "    num_models = len(sac_models)\n",
    "\n",
    "    assert num_models == len(td3_models), \"Number of models in SAC and TD3 should be the same\"\n",
    "\n",
    "    for i in range(num_models):\n",
    "\n",
    "        with open(pkl_dir / sac_models[i], 'rb') as f:\n",
    "            sac_data = pkl.load(f)\n",
    "            sac_data_points = [sac_data[property][:num_steps] for property in properties]\n",
    "            sac_data_points = [remove_nones(data_point) for data_point in sac_data_points]\n",
    "        \n",
    "        with open(pkl_dir / td3_models[i], 'rb') as f:\n",
    "            td3_data = pkl.load(f)\n",
    "            td3_data_points = [td3_data[property][:num_steps] for property in properties]\n",
    "            td3_data_points = [remove_nones(data_point) for data_point in td3_data_points]\n",
    "        \n",
    "        # print constraint name at the top of column\n",
    "        fig.text(0.5, 0.9, constraints[i], ha='center', va='center')\n",
    "\n",
    "        assert len(sac_data_points) == len(td3_data_points), \"Number of properties should be the same\"\n",
    "        assert len(sac_data_points[0]) == len(td3_data_points[1]), \"Number of points should be the same\"\n",
    "\n",
    "        x_axis = [num_steps // len(sac_data_points[0]) * i for i in range(len(sac_data_points[0]))]\n",
    "\n",
    "        # add first subplot\n",
    "        ax = fig.add_subplot(num_models, 1, i+1)\n",
    "        ax.plot(x_axis, sac_data_points[0], color=colors[0], label=\"SAC\")\n",
    "        \n",
    "        # set x and y labels\n",
    "        ax.set_xlabel('Steps')\n",
    "        ax.set_ylabel(\"Behavior Rate\")\n",
    "\n",
    "        # add second subplot\n",
    "        ax = fig.add_subplot(num_models, 2, i+1)\n",
    "        ax.plot(x_axis, td3_data_points[0], color=colors[1], label=\"TD3\")\n",
    "        ax.set_xlabel('Steps')\n",
    "        ax.set_ylabel(\"Behavior Rate\")\n",
    "\n",
    "        # add third subplot\n",
    "        ax = fig.add_subplot(num_models, 3, i+1)\n",
    "        ax.plot(x_axis, sac_data_points[1], color=colors[2], label=\"SAC\")\n",
    "        ax.set_xlabel('Steps')\n",
    "        ax.set_ylabel(\"Return\")\n",
    "\n",
    "        # add fourth subplot\n",
    "        ax = fig.add_subplot(num_models, 4, i+1)\n",
    "        ax.plot(x_axis, td3_data_points[1], color=colors[3], label=\"TD3\")\n",
    "        ax.set_xlabel('Steps')\n",
    "        ax.set_ylabel(\"Return\")\n",
    "    \n",
    "    plt.show()\n"
   ]
  },
  {
   "cell_type": "code",
   "execution_count": 69,
   "metadata": {},
   "outputs": [
    {
     "data": {
      "text/plain": [
       "[PosixPath('pkls/SAC_10M_AllContraints_D_Part'),\n",
       " PosixPath('pkls/SAC_3M_singleConstraintEnergy'),\n",
       " PosixPath('pkls/SAC_3M_singleConstraintGround'),\n",
       " PosixPath('pkls/SAC_3M_singleConstraintLava'),\n",
       " PosixPath('pkls/SAC_3M_singleConstraintMarker'),\n",
       " PosixPath('pkls/SAC_3M_singleConstraintSpeed'),\n",
       " PosixPath('pkls/SAC_5M_allConstraints_No_b'),\n",
       " PosixPath('pkls/SAC_5M_allConstraints_No_b_No_s'),\n",
       " PosixPath('pkls/TD3_10M_AllConstraints_D_Part'),\n",
       " PosixPath('pkls/TD3_3M_singleConstraintEnergy'),\n",
       " PosixPath('pkls/TD3_3M_singleConstraintGround'),\n",
       " PosixPath('pkls/TD3_3M_singleConstraintLava'),\n",
       " PosixPath('pkls/TD3_3M_singleConstraintMarker'),\n",
       " PosixPath('pkls/TD3_3M_singleConstraintSpeed'),\n",
       " PosixPath('pkls/TD3_5M_allConstraints_No_b'),\n",
       " PosixPath('pkls/TD3_5M_allConstraints_No_b_No_s')]"
      ]
     },
     "execution_count": 69,
     "metadata": {},
     "output_type": "execute_result"
    }
   ],
   "source": [
    "# print all folders in the directory using pathlib\n",
    "models = [folder for folder in pkl_dir.iterdir()]\n",
    "\n",
    "models.sort()\n",
    "\n",
    "models"
   ]
  }
 ],
 "metadata": {
  "kernelspec": {
   "display_name": ".venv",
   "language": "python",
   "name": "python3"
  },
  "language_info": {
   "codemirror_mode": {
    "name": "ipython",
    "version": 3
   },
   "file_extension": ".py",
   "mimetype": "text/x-python",
   "name": "python",
   "nbconvert_exporter": "python",
   "pygments_lexer": "ipython3",
   "version": "3.12.7"
  }
 },
 "nbformat": 4,
 "nbformat_minor": 2
}
